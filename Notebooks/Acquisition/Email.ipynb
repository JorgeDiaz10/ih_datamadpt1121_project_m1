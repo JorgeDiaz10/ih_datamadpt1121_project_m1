{
 "cells": [
  {
   "cell_type": "code",
   "execution_count": null,
   "id": "2f1b58a6",
   "metadata": {},
   "outputs": [],
   "source": [
    "import smtplib, getpass, os\n",
    "from email.mime.multipart import MIMEMultipart\n",
    "from email.mime.text import MIMEText\n",
    "from email.mime.base import MIMEBase\n",
    "from email.encoders import encode_base64\n",
    "\n",
    "print(\"**** Enviar email con Gmail ****\")\n",
    "user = input(\"Cuenta de gmail: \")\n",
    "password = getpass.getpass(\"Password: \")\n",
    "\n",
    "#Para las cabeceras del email\n",
    "remitente = input(\"From, ejemplo: administrador <admin@gmail.com>: \")\n",
    "destinatario = input(\"To, ejemplo: amigo <amigo@mail.com>: \")\n",
    "asunto = input(\"Subject, Asunto del mensaje: \")\n",
    "mensaje = input(\"Mensaje HTML: \")\n",
    "archivo = 'data/closer_station.csv'\n",
    "\n",
    "#Host y puerto SMTP de Gmail\n",
    "gmail = smtplib.SMTP('smtp.gmail.com', 587)\n",
    "\n",
    "#protocolo de cifrado de datos utilizado por gmail\n",
    "gmail.starttls()\n",
    "\n",
    "#Credenciales\n",
    "gmail.login(user, password)\n",
    "\n",
    "#muestra la depuración de la operacion de envío 1=true\n",
    "gmail.set_debuglevel(1)\n",
    "\n",
    "header = MIMEMultipart()\n",
    "header['Subject'] = asunto\n",
    "header['From'] = remitente\n",
    "header['To'] = destinatario\n",
    "\n",
    "mensaje = MIMEText(mensaje, 'html') #Content-type:text/html\n",
    "header.attach(mensaje)\n",
    "\n",
    "if (os.path.isfile(archivo)):\n",
    " adjunto = MIMEBase('application', 'octet-stream')\n",
    " adjunto.set_payload(open(archivo, \"rb\").read())\n",
    " encode_base64(adjunto)\n",
    " adjunto.add_header('Content-Disposition', 'attachment; filename=\"%s\"' % os.path.basename(archivo))\n",
    " header.attach(adjunto)\n",
    "\n",
    "#Enviar email\n",
    "gmail.sendmail(remitente, destinatario, header.as_string())\n",
    "\n",
    "#Cerrar la conexión SMTP\n",
    "gmail.quit()"
   ]
  }
 ],
 "metadata": {
  "kernelspec": {
   "display_name": "Python 3",
   "language": "python",
   "name": "python3"
  },
  "language_info": {
   "codemirror_mode": {
    "name": "ipython",
    "version": 3
   },
   "file_extension": ".py",
   "mimetype": "text/x-python",
   "name": "python",
   "nbconvert_exporter": "python",
   "pygments_lexer": "ipython3",
   "version": "3.7.11"
  }
 },
 "nbformat": 4,
 "nbformat_minor": 5
}
