{
 "cells": [
  {
   "cell_type": "code",
   "execution_count": 15,
   "id": "39033634",
   "metadata": {},
   "outputs": [],
   "source": [
    "import pandas as pd\n",
    "import requests\n",
    "import numpy as np\n",
    "import os"
   ]
  },
  {
   "cell_type": "code",
   "execution_count": 16,
   "id": "1aba84c2",
   "metadata": {},
   "outputs": [],
   "source": [
    "def acquire_catolicos():\n",
    "    df1 = pd.read_csv(\"../data/209426-0-templos-catolicas.csv\", delimiter = \";\")\n",
    "    return df1"
   ]
  },
  {
   "cell_type": "code",
   "execution_count": 17,
   "id": "e6457d9b",
   "metadata": {},
   "outputs": [],
   "source": [
    "def acquire_no_catolicos():\n",
    "    df2 = pd.read_csv(\"../../data/209434-0-templos-otros.csv\", delimiter = \";\")\n",
    "    return df2"
   ]
  },
  {
   "cell_type": "code",
   "execution_count": 21,
   "id": "1084e6dd",
   "metadata": {},
   "outputs": [],
   "source": [
    "def acquire_bicimad():\n",
    "    df3 = pd.read_json(\"../data/bicimad_stations.json\")\n",
    "    df3 ['LONGITUD'] = [float(index.split(',')[0].replace(\"[\", \"\")) for index in df3['geometry_coordinates']]\n",
    "    df3 ['LATITUD'] = [float(index.split(',')[1].replace(\"]\", \"\")) for index in df3['geometry_coordinates']]\n",
    "    return df3"
   ]
  }
 ],
 "metadata": {
  "kernelspec": {
   "display_name": "Python [conda env:proyecto1]",
   "language": "python",
   "name": "conda-env-proyecto1-py"
  },
  "language_info": {
   "codemirror_mode": {
    "name": "ipython",
    "version": 3
   },
   "file_extension": ".py",
   "mimetype": "text/x-python",
   "name": "python",
   "nbconvert_exporter": "python",
   "pygments_lexer": "ipython3",
   "version": "3.7.11"
  }
 },
 "nbformat": 4,
 "nbformat_minor": 5
}
